{
 "cells": [
  {
   "cell_type": "code",
   "execution_count": null,
   "metadata": {},
   "outputs": [],
   "source": [
    "!pip install -U pynwb\n",
    "from pynwb import NWBHDF5IO\n",
    "!pip install nwbwidgets\n",
    "from nwbwidgets import nwb2widget\n",
    "from scipy.signal import butter, filtfilt\n",
    "import pandas as pd\n",
    "import matplotlib\n",
    "import matplotlib.pyplot as plt\n",
    "import numpy as np\n",
    "import random"
   ]
  },
  {
   "cell_type": "code",
   "execution_count": null,
   "metadata": {},
   "outputs": [],
   "source": [
    "# opening ecephys probe file\n",
    "!ls\n",
    "filepath = '/Users/poggi/Documents/Maier Lab/NWB Data/sub-699733573_ses-715093703_probe-810755797_ecephys.nwb'\n",
    "io = NWBHDF5IO(filepath, 'r',load_namespaces = True)  # open the file in read mode 'r'\n",
    "nwb = io.read() # nwb dataset"
   ]
  },
  {
   "cell_type": "code",
   "execution_count": null,
   "metadata": {},
   "outputs": [],
   "source": [
    "lfp_data = nwb.acquisition\n",
    "lfp_data = lfp_data['probe_810755797_lfp_data']\n",
    "lfp_data = lfp_data.data\n",
    "lfp_df = pd.DataFrame(lfp_data)\n",
    "shape = lfp_df.shape\n",
    "print(shape)\n",
    "# Retrieve the sampling rate from the NWB file\n",
    "sampling_rate = nwb.electrode_groups['probeA'].lfp_sampling_rate"
   ]
  },
  {
   "cell_type": "code",
   "execution_count": null,
   "metadata": {},
   "outputs": [],
   "source": [
    "# Convert the desired time range in seconds to indices\n",
    "start_time_seconds = 0\n",
    "end_time_seconds = 250  # 250 seconds\n",
    "start_index = int(start_time_seconds * sampling_rate)\n",
    "end_index = int(end_time_seconds * sampling_rate)\n",
    "\n",
    "# Slice the LFP data\n",
    "lfp_data_sliced = lfp_df.iloc[start_index:end_index]\n",
    "\n",
    "# Select three random channels\n",
    "num_channels = 3\n",
    "all_channels = lfp_data_sliced.columns.tolist()\n",
    "random_channels = random.sample(all_channels, num_channels)\n",
    "\n",
    "# Slice the data for the selected random channels\n",
    "lfp_data_sliced_random = lfp_data_sliced[random_channels]"
   ]
  },
  {
   "cell_type": "code",
   "execution_count": null,
   "metadata": {},
   "outputs": [],
   "source": [
    "# graph the three channels\n",
    "fig, ax = plt.subplots(num_channels, 1, figsize=(10, 10), sharex=True)\n",
    "for i in range(num_channels):\n",
    "    ax[i].plot(lfp_data_sliced_random.iloc[:, i])\n",
    "    ax[i].set_ylabel('Channel {}'.format(random_channels[i]))\n",
    "    ax[i].set_xlim([start_index, end_index])\n",
    "    ax[i].set_ylim([-.0005, .0005])\n",
    "    ax[i].set_yticks([-.0005, 0, .0005])\n",
    "    ax[i].set_yticklabels([-.0005, 0, .0005])\n",
    "    ax[i].grid(True)\n",
    "ax[i].set_xlabel('Time (samples)')\n",
    "plt.show()"
   ]
  },
  {
   "cell_type": "code",
   "execution_count": null,
   "metadata": {},
   "outputs": [],
   "source": [
    "from scipy.signal import butter, filtfilt\n",
    "import numpy as np\n",
    "\n",
    "def butter_bandpass(lowcut, highcut, fs, order=5):\n",
    "    nyq = 0.5 * fs\n",
    "    low = lowcut / nyq\n",
    "    high = highcut / nyq\n",
    "    b, a = butter(order, [low, high], btype='band')\n",
    "    return b, a\n",
    "\n",
    "def bandpass_filter(data, lowcut, highcut, fs, order=5):\n",
    "    b, a = butter_bandpass(lowcut, highcut, fs, order=order)\n",
    "    y = filtfilt(b, a, data)\n",
    "    y_abs = np.abs(y)\n",
    "    return y_abs\n",
    "\n",
    "# Retrieve the sampling rate from the NWB file\n",
    "sampling_rate = nwb.electrode_groups['probeA'].lfp_sampling_rate\n",
    "\n",
    "# Apply bandpass filter to each of the random channels separately\n",
    "filtered_lfp_sliced_random = lfp_data_sliced_random.apply(lambda x: bandpass_filter(x, lowcut=8, highcut=12, fs=sampling_rate))\n"
   ]
  },
  {
   "cell_type": "code",
   "execution_count": null,
   "metadata": {},
   "outputs": [],
   "source": [
    "# graph the three channels\n",
    "fig, ax = plt.subplots(num_channels, 1, figsize=(10, 10), sharex=True)\n",
    "for i in range(num_channels):\n",
    "    ax[i].plot(filtered_lfp_sliced_random.iloc[:, i])\n",
    "    ax[i].set_ylabel('Channel {}'.format(random_channels[i]))\n",
    "    ax[i].set_xlim([start_index, end_index])\n",
    "    ax[i].set_ylim([0, .00005])\n",
    "    ax[i].set_yticks([0, .0001, .0003])\n",
    "    ax[i].set_yticklabels([0, .0001, .0003])\n",
    "    ax[i].grid(True)"
   ]
  },
  {
   "cell_type": "code",
   "execution_count": null,
   "metadata": {},
   "outputs": [],
   "source": [
    "# Apply bandpass filter to each of the random channels separately\n",
    "filtered_lfp_sliced_random = lfp_data_sliced_random.apply(lambda x: bandpass_filter(x, lowcut=35, highcut=65, fs=sampling_rate))\n"
   ]
  },
  {
   "cell_type": "code",
   "execution_count": null,
   "metadata": {},
   "outputs": [],
   "source": [
    "# graph the three channels\n",
    "fig, ax = plt.subplots(num_channels, 1, figsize=(10, 10), sharex=True)\n",
    "for i in range(num_channels):\n",
    "    ax[i].plot(filtered_lfp_sliced_random.iloc[:, i])\n",
    "    ax[i].set_ylabel('Channel {}'.format(random_channels[i]))\n",
    "    ax[i].set_xlim([start_index, end_index])\n",
    "    ax[i].set_ylim([-.0001, .0001])\n",
    "    ax[i].set_yticks([-.001, 0, .001])\n",
    "    ax[i].set_yticklabels([-.001, 0, .001])\n",
    "    ax[i].grid(True)"
   ]
  },
  {
   "cell_type": "code",
   "execution_count": null,
   "metadata": {
    "pycharm": {
     "is_executing": true
    }
   },
   "outputs": [],
   "source": []
  },
  {
   "cell_type": "code",
   "execution_count": null,
   "metadata": {},
   "outputs": [],
   "source": []
  }
 ],
 "metadata": {
  "kernelspec": {
   "display_name": "Python 3 (ipykernel)",
   "language": "python",
   "name": "python3"
  },
  "language_info": {
   "codemirror_mode": {
    "name": "ipython",
    "version": 3
   },
   "file_extension": ".py",
   "mimetype": "text/x-python",
   "name": "python",
   "nbconvert_exporter": "python",
   "pygments_lexer": "ipython3",
   "version": "3.10.11"
  }
 },
 "nbformat": 4,
 "nbformat_minor": 1
}
