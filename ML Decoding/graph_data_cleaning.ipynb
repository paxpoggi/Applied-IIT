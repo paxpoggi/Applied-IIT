{
 "cells": [
  {
   "cell_type": "code",
   "execution_count": 30,
   "metadata": {},
   "outputs": [],
   "source": [
    "import pandas as pd\n",
    "import numpy as np\n",
    "import matplotlib.pyplot as plt\n",
    "import seaborn as sns\n",
    "import re\n",
    "import os\n",
    "import ast\n",
    "import json\n",
    "from collections import defaultdict\n",
    "import csv"
   ]
  },
  {
   "cell_type": "code",
   "execution_count": 31,
   "metadata": {},
   "outputs": [],
   "source": [
    "def parse_complex_value(value):\n",
    "    try:\n",
    "        # Remove 'array([...], dtype=int16)' patterns\n",
    "        value = re.sub(r\"array\\((\\[.*?\\])\\s*,\\s*dtype=int16\\)\", r\"\\1\", value)\n",
    "        # Replace single quotes with double quotes\n",
    "        value = value.replace(\"'\", '\"')\n",
    "        # Evaluate the string as a Python literal\n",
    "        return ast.literal_eval(value)\n",
    "    except Exception as e:\n",
    "        print(f\"Error parsing value: {e}\")\n",
    "        return None\n",
    "\n",
    "def parse_csv(file_path):\n",
    "    results = []\n",
    "    with open(file_path, 'r', encoding='ISO-8859-1') as f:\n",
    "        reader = csv.reader(f)\n",
    "        next(reader)  # Skip header row\n",
    "        for row in reader:\n",
    "            probe_name, visual_area, iteration, iteration_phi_values = row\n",
    "            phi_values = parse_complex_value(iteration_phi_values)\n",
    "            \n",
    "            if phi_values is None:\n",
    "                print(f\"Skipping row due to parsing error: {row}\")\n",
    "                continue\n",
    "\n",
    "            for presentation_type, intervals in phi_values.items():\n",
    "                for interval, data in intervals.items():\n",
    "                    if isinstance(interval, tuple):\n",
    "                        interval_start, interval_end = interval\n",
    "                    else:\n",
    "                        interval = interval.strip('()')\n",
    "                        interval_start, interval_end = map(int, interval.split(','))\n",
    "                    \n",
    "                    if len(data) >= 3:\n",
    "                        max_phi, max_phi_state, metrics = data\n",
    "                    else:\n",
    "                        print(f\"Data tuple does not have 3 elements: {data}\")\n",
    "                        continue\n",
    "\n",
    "                    results.append({\n",
    "                        'probe_name': probe_name,\n",
    "                        'visual_area': visual_area,\n",
    "                        'presentation_type': presentation_type,\n",
    "                        'interval_start': interval_start,\n",
    "                        'interval_end': interval_end,\n",
    "                        'max_phi': max_phi,\n",
    "                        'max_phi_state': str(max_phi_state),\n",
    "                        'total_distinctions': metrics['total_distinctions'],\n",
    "                        'total_integrated_information_distinctions': metrics['total_integrated_information_distinctions'],\n",
    "                        'total_cause_information': metrics['total_cause_information'],\n",
    "                        'total_effect_information': metrics['total_effect_information'],\n",
    "                        'total_relations': metrics['total_relations'],\n",
    "                        'total_integrated_information_relations': metrics['total_integrated_information_relations'],\n",
    "                        'faces_1_9': metrics['faces_1_9'],\n",
    "                        'faces_10_30': metrics['faces_10_30'],\n",
    "                        'faces_30_plus': metrics['faces_30_plus']\n",
    "                    })\n",
    "        \n",
    "    return results\n",
    "\n",
    "def process_directory(directory_path):\n",
    "    all_results = []\n",
    "    for filename in os.listdir(directory_path):\n",
    "        if filename.endswith('.csv'):\n",
    "            file_path = os.path.join(directory_path, filename)\n",
    "            all_results.extend(parse_csv(file_path))\n",
    "    return all_results\n",
    "\n",
    "def write_output(results, output_dir):\n",
    "    output_file = os.path.join(output_dir, 'parsed_probe_data.csv')\n",
    "    fieldnames = [\n",
    "        'probe_name', 'visual_area', 'presentation_type', 'interval_start', 'interval_end',\n",
    "        'max_phi', 'max_phi_state', 'total_distinctions', 'total_integrated_information_distinctions',\n",
    "        'total_cause_information', 'total_effect_information', 'total_relations',\n",
    "        'total_integrated_information_relations', 'faces_1_9', 'faces_10_30', 'faces_30_plus'\n",
    "    ]\n",
    "    \n",
    "    with open(output_file, 'w', newline='', encoding='ISO-8859-1') as f:\n",
    "        writer = csv.DictWriter(f, fieldnames=fieldnames)\n",
    "        writer.writeheader()\n",
    "        for row in results:\n",
    "            writer.writerow(row)"
   ]
  },
  {
   "cell_type": "code",
   "execution_count": 32,
   "metadata": {},
   "outputs": [
    {
     "name": "stdout",
     "output_type": "stream",
     "text": [
      "Parsing complete. Output written to /Users/paxpoggi/Library/Mobile Documents/com~apple~CloudDocs/Documents/Maier Lab/IIT Notebooks/Cleaned Graph Data/parsed_probe_data_full.csv\n"
     ]
    }
   ],
   "source": [
    "input_directory = '/Users/paxpoggi/Library/Mobile Documents/com~apple~CloudDocs/Documents/Maier Lab/IIT Notebooks/phi_values_lfp_hypergraphs/'\n",
    "output_directory = '/Users/paxpoggi/Library/Mobile Documents/com~apple~CloudDocs/Documents/Maier Lab/IIT Notebooks/Cleaned Graph Data/'\n",
    "\n",
    "results = process_directory(input_directory)\n",
    "write_output(results, output_directory)\n",
    "print(f\"Parsing complete. Output written to {os.path.join(output_directory, 'parsed_probe_data_full.csv')}\")"
   ]
  },
  {
   "cell_type": "code",
   "execution_count": null,
   "metadata": {},
   "outputs": [],
   "source": []
  }
 ],
 "metadata": {
  "kernelspec": {
   "display_name": "pyphi_c",
   "language": "python",
   "name": "python3"
  },
  "language_info": {
   "codemirror_mode": {
    "name": "ipython",
    "version": 3
   },
   "file_extension": ".py",
   "mimetype": "text/x-python",
   "name": "python",
   "nbconvert_exporter": "python",
   "pygments_lexer": "ipython3",
   "version": "3.10.14"
  }
 },
 "nbformat": 4,
 "nbformat_minor": 2
}
