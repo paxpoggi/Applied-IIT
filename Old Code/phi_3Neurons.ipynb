{
 "cells": [
  {
   "cell_type": "markdown",
   "metadata": {
    "id": "1TwXr_Qbwrmh"
   },
   "source": [
    "Import Necessary Packages"
   ]
  },
  {
   "cell_type": "code",
   "execution_count": null,
   "metadata": {
    "colab": {
     "base_uri": "https://localhost:8080/"
    },
    "id": "8pRkFQucXFiK",
    "outputId": "d0481d42-5dcb-449e-ae9d-bca3d4ad180c",
    "pycharm": {
     "is_executing": true
    }
   },
   "outputs": [],
   "source": [
    "!python -m pip install -U git+https://github.com/wmayner/pyphi.git@feature/iit-4.0"
   ]
  },
  {
   "cell_type": "code",
   "execution_count": null,
   "metadata": {
    "colab": {
     "base_uri": "https://localhost:8080/"
    },
    "id": "E5ZBY3AJXRn-",
    "outputId": "bc2eb33e-464d-4f10-df9b-24090e08b76a"
   },
   "outputs": [],
   "source": [
    "import pyphi\n",
    "import math\n",
    "import numpy as np\n",
    "\n",
    "pyphi.config.WELCOME_OFF = True\n",
    "pyphi.config.PROGRESS_BARS = False\n"
   ]
  },
  {
   "cell_type": "code",
   "execution_count": null,
   "metadata": {
    "colab": {
     "base_uri": "https://localhost:8080/",
     "height": 1000
    },
    "id": "xkWXVaakXXGe",
    "outputId": "c3f95cca-804b-4dc4-cd49-acb9e7eb28e0"
   },
   "outputs": [],
   "source": [
    "import autograd.numpy as np\n",
    "import autograd.numpy.random as npr\n",
    "npr.seed(0)\n",
    "\n",
    "import matplotlib\n",
    "import matplotlib.pyplot as plt\n",
    "import seaborn as sns\n",
    "from itertools import combinations_with_replacement\n",
    "from mpl_toolkits import mplot3d\n",
    "import pandas as pd\n",
    "\n",
    "!pip install -U pynwb\n",
    "from pynwb import NWBHDF5IO\n",
    "!pip install nwbwidgets\n",
    "from nwbwidgets import nwb2widget\n",
    "import pyphi\n",
    "pyphi.config.PROGRESS_BARS = False\n",
    "pyphi.config.WELCOME_OFF = True\n",
    "\n",
    "\n",
    "\n",
    "sns.set_style(\"white\")\n",
    "sns.set_context(\"talk\")\n",
    "color_names = [\"windows blue\",\n",
    "               \"red\",\n",
    "               \"amber\",\n",
    "               \"faded green\",\n",
    "               \"dusty purple\",\n",
    "               \"orange\",\n",
    "               \"clay\",\n",
    "               \"pink\",\n",
    "               \"greyish\"]\n",
    "\n",
    "colors = sns.xkcd_palette(color_names)\n",
    "from matplotlib.colors import ListedColormap\n",
    "\n",
    "cmap = ListedColormap(colors)"
   ]
  },
  {
   "cell_type": "code",
   "execution_count": null,
   "metadata": {
    "colab": {
     "base_uri": "https://localhost:8080/"
    },
    "id": "QJkFng4BXZlu",
    "outputId": "cefdf4b5-18c5-4369-8326-98d3f210c44c"
   },
   "outputs": [],
   "source": [
    "!ls\n",
    "filepath = '/Users/poggi/Documents/Maier Lab/NWB Data/sub-699733573_ses-715093703.nwb'\n",
    "io = NWBHDF5IO(filepath, 'r',load_namespaces = True)  # open the file in read mode 'r'\n",
    "nwb = io.read() # nwb dataset\n",
    "nwb2widget(nwb)\n"
   ]
  },
  {
   "cell_type": "markdown",
   "metadata": {
    "id": "p3cgxEQowIub"
   },
   "source": []
  },
  {
   "cell_type": "code",
   "execution_count": null,
   "metadata": {
    "id": "2UL5zkkeXhmj"
   },
   "outputs": [],
   "source": [
    "# grab all the flash presentation data\n",
    "intervals_dict = nwb.intervals\n",
    "flashes_presentations = intervals_dict['flashes_presentations'].to_dataframe()\n",
    "stim_on_times = flashes_presentations.start_time[:].to_numpy()\n",
    "# stim_on_times and N_trials are our desired output for the next step\n",
    "N_trials = len(stim_on_times)\n",
    "print(N_trials)\n",
    "print(intervals_dict.keys())"
   ]
  },
  {
   "cell_type": "code",
   "execution_count": null,
   "metadata": {
    "id": "X6uyhWLxXmUZ"
   },
   "outputs": [],
   "source": [
    "# get time intervals for neurons\n",
    "one_second = flashes_presentations.start_time[0] + 1\n",
    "five_seconds = flashes_presentations.start_time[0] + 5\n",
    "print(five_seconds)\n",
    "six_seconds = flashes_presentations.start_time[0] + 6\n",
    "print(six_seconds)\n",
    "ten_seconds = flashes_presentations.start_time[0] + 10\n",
    "eleven_seconds = flashes_presentations.start_time[0] + 11"
   ]
  },
  {
   "cell_type": "code",
   "execution_count": null,
   "metadata": {
    "id": "vDmfbkfbXrG-"
   },
   "outputs": [],
   "source": [
    "units_df = nwb.units.to_dataframe()\n",
    "units_df"
   ]
  },
  {
   "cell_type": "code",
   "execution_count": null,
   "metadata": {
    "id": "iI6L420XXwjn"
   },
   "outputs": [],
   "source": [
    "# These are your options for channel area\n",
    "x = np.array(nwb.electrodes[\"location\"].data[:])\n",
    "np.unique(x)"
   ]
  },
  {
   "cell_type": "code",
   "execution_count": null,
   "metadata": {
    "id": "h_jaMhDeXzOE"
   },
   "outputs": [],
   "source": [
    "# first we find the brain area that each electrode was determined to be in\n",
    "elLocationLabel = nwb.electrodes[\"location\"].data[:]\n",
    "# Then we use numpy to search this array for cells labeled \"VISP\"\n",
    "import numpy as np\n",
    "x = np.array(elLocationLabel)\n",
    "locIdx_LGd = np.where(x == 'LGd')\n",
    "locIdx_VISp = np.where(x == 'VISp')\n",
    "locIdx_VISpm = np.where(x == 'VISpm')\n",
    "locIdx_VISl = np.where(x == 'VISl')\n",
    "locIdx_VISrl = np.where(x == 'VISrl')\n",
    "\n",
    "\n",
    "# We can then tie the index of the V1 locations to specific probe ID\n",
    "elLocationID = nwb.electrodes[\"id\"].data[:]\n",
    "elID_LGd   = elLocationID[locIdx_LGd]\n",
    "elID_VISp   = elLocationID[locIdx_VISp]\n",
    "elID_VISpm   = elLocationID[locIdx_VISpm]\n",
    "elID_VISl   = elLocationID[locIdx_VISl]\n",
    "elID_VISrl   = elLocationID[locIdx_VISrl]"
   ]
  },
  {
   "cell_type": "code",
   "execution_count": null,
   "metadata": {
    "id": "zZ79Fqi7X1qm"
   },
   "outputs": [],
   "source": [
    "# Find index for good units\n",
    "y = np.array(units_df.quality)\n",
    "goodUnit = np.where(y == 'good')[0]\n",
    "# Find index for units in desired area\n",
    "cids = units_df.peak_channel_id.to_list()\n",
    "unitsToUse_idx_LGd = [a for a in goodUnit if cids[a] in elID_LGd]\n",
    "unitsToUse_idx_VISp = [a for a in goodUnit if cids[a] in elID_VISp]\n",
    "unitsToUse_idx_VISpm = [a for a in goodUnit if cids[a] in elID_VISpm]\n",
    "unitsToUse_idx_VISl = [a for a in goodUnit if cids[a] in elID_VISl]\n",
    "unitsToUse_idx_VISrl = [a for a in goodUnit if cids[a] in elID_VISrl]\n",
    "\n",
    "unitsToUse_LGd = nwb.units[unitsToUse_idx_LGd]\n",
    "unitsToUse_VISp = nwb.units[unitsToUse_idx_VISp]\n",
    "unitsToUse_VISpm = nwb.units[unitsToUse_idx_VISpm]\n",
    "unitsToUse_VISl = nwb.units[unitsToUse_idx_VISl]\n",
    "unitsToUse_VISrl = nwb.units[unitsToUse_idx_VISrl]"
   ]
  },
  {
   "cell_type": "code",
   "execution_count": null,
   "metadata": {
    "id": "lw8Imh4AX2VQ"
   },
   "outputs": [],
   "source": [
    "# find the units in unitsToUse_VISp that show up the most\n",
    "spike_data_VISp = []\n",
    "indexes_in_VISp = []\n",
    "for i in range(len(unitsToUse_VISp['spike_times'])):\n",
    "    spikes = len(unitsToUse_VISp['spike_times'].iloc[i])\n",
    "    spike_data_VISp.append(len(unitsToUse_VISp['spike_times'].iloc[i]))\n",
    "\n",
    "# find the indexes of the three units with the highest number of spikes in unitsToUse_VISp\n",
    "sorted_indexes = np.argsort(spike_data_VISp)[::-1] # [::-1] is used to reverse the order\n",
    "top_three_indexes = sorted_indexes[:3]\n",
    "top_three_units = unitsToUse_VISp.iloc[top_three_indexes]\n",
    "\n",
    "print(top_three_units)\n",
    "\n",
    "\n",
    "# print the top three unit IDs and their respective spike counts\n",
    "for i, row in top_three_units.iterrows():\n",
    "    print(\"Local index\", row['local_index'], \"with highest number of spikes:\", len(row['spike_times']))\n",
    "\n"
   ]
  },
  {
   "cell_type": "code",
   "execution_count": null,
   "metadata": {
    "id": "VAx6pzO9X4gq"
   },
   "outputs": [],
   "source": [
    "# locate the units in the units_df\n",
    "unit_local_index_450 = units_df.loc[950931254,'spike_times']\n",
    "unit_local_index_410 = units_df.loc[950930407,'spike_times']\n",
    "unit_local_index_437 = units_df.loc[950930985,'spike_times']\n",
    "\n",
    "print(len(unit_local_index_450), len(unit_local_index_410), len(unit_local_index_437))"
   ]
  },
  {
   "cell_type": "code",
   "execution_count": null,
   "metadata": {
    "id": "1D1kqTsPYAm4"
   },
   "outputs": [],
   "source": [
    "# plot the spike times for the top three units between 1275.5 and 1280.5 seconds with each unit having a different row\n",
    "y_vals = [1,2,3]\n",
    "plt.figure(figsize=(20,3))\n",
    "plt.plot(unit_local_index_450, np.ones_like(unit_local_index_450)*y_vals[0], '|', markersize=10, color='red')\n",
    "plt.plot(unit_local_index_410, np.ones_like(unit_local_index_410)*y_vals[1], '|', markersize=10, color='blue')\n",
    "plt.plot(unit_local_index_437, np.ones_like(unit_local_index_437)*y_vals[2], '|', markersize=10, color='green')\n",
    "plt.xlim(one_second, six_seconds)\n",
    "plt.ylim(0.5, 3.5)\n",
    "# only show whole number y values\n",
    "plt.yticks(y_vals)\n",
    "plt.xlabel('Time (s)')\n",
    "# set y ticks as [450, 410, 437]\n",
    "plt.yticks(y_vals, [450, 410, 437])\n",
    "plt.ylabel('Unit')\n",
    "plt.title('Top Three Neurons Raster Plot')\n",
    "# save image as top three units raster plot\n",
    "plt.savefig('top_three_units_raster_plot.png')\n",
    "plt.show()\n",
    "\n",
    "\n",
    "# Count the number of spikes for each unit in the specified time range\n",
    "spike_counts = [np.count_nonzero((unit_spike_times > one_second) & (unit_spike_times < six_seconds)) for unit_spike_times in [unit_local_index_450, unit_local_index_410, unit_local_index_437]]\n",
    "print('Spike counts:', spike_counts)"
   ]
  },
  {
   "cell_type": "code",
   "execution_count": null,
   "metadata": {
    "id": "qX2w3kcUYGaX"
   },
   "outputs": [],
   "source": [
    "# make a matrix of the spike times for the top three units between 1275.5 and 1280.5 seconds approximately\n",
    "# This one is down-sampled from 30kHz to 1kHz\n",
    "t_start = one_second\n",
    "t_end = ten_seconds\n",
    "dt = 1./1000\n",
    "\n",
    "num_units = 3\n",
    "units = top_three_units\n",
    "# Compute the number of time bins based on the time range and resolution\n",
    "num_time_bins = int((t_end - t_start) / dt)\n",
    "print(num_time_bins)\n",
    "\n",
    "# Create an array of time values for each bin\n",
    "bin_edges = np.linspace(t_start, t_end, num_time_bins+1)\n",
    "\n",
    "histograms = []\n",
    "for i in range(len(units)):\n",
    "    unit_spikes = units.iloc[i]['spike_times']\n",
    "    unit_histogram, _ = np.histogram(unit_spikes, bin_edges)\n",
    "    histograms.append(unit_histogram)\n",
    "\n",
    "# Convert the list of histograms to a spike matrix\n",
    "spike_matrix_down_sampled = np.vstack(histograms)\n",
    "print(spike_matrix_down_sampled.shape)\n",
    "# Count the number of spikes in the first row of the spike matrix\n",
    "num_spikes_unit_450 = np.sum(spike_matrix_down_sampled[0, :])\n",
    "num_spikes_unit_410 = np.sum(spike_matrix_down_sampled[1, :])\n",
    "num_spikes_unit_437 = np.sum(spike_matrix_down_sampled[2, :])\n",
    "print('Number of spikes in first row: {}'.format(num_spikes_unit_450))\n",
    "print('Number of spikes in second row: {}'.format(num_spikes_unit_410))\n",
    "print('Number of spikes in third row: {}'.format(num_spikes_unit_437))"
   ]
  },
  {
   "cell_type": "code",
   "execution_count": null,
   "metadata": {
    "id": "TB_7bUizYIo-"
   },
   "outputs": [],
   "source": [
    "# Transpose matrix to make state-by-state TPM\n",
    "allData = spike_matrix_down_sampled\n",
    "allData = allData.T\n",
    "print(allData.shape)\n",
    "print(type(allData))"
   ]
  },
  {
   "cell_type": "code",
   "execution_count": null,
   "metadata": {},
   "outputs": [],
   "source": [
    "if allData.dtype == np.float64:\n",
    "    print(\"Array 'allData' is of type float\")\n",
    "elif allData.dtype == np.int64:\n",
    "    print(\"Array 'allData' is of type int64\")\n",
    "else:\n",
    "    print(\"Array 'allData' is of a different type\")"
   ]
  },
  {
   "cell_type": "code",
   "execution_count": null,
   "metadata": {
    "id": "BHdj8_m0YMCw"
   },
   "outputs": [],
   "source": [
    "# get all possible unique states from the data\n",
    "possible_states = np.unique(allData, axis =0)\n",
    "print(possible_states.shape)\n",
    "# make a figure of all the possible states\n",
    "figure_data = np.array(possible_states)\n",
    "matplotlib.pyplot.spy(figure_data, precision=0.01, markersize=10)\n",
    "plt.title('Possible States')\n",
    "plt.xlabel('Unit')\n",
    "plt.ylabel('State')\n",
    "# make figure smaller\n",
    "plt.rcParams['figure.figsize'] = [8, 8]\n",
    "# set y ticks from 1 to 8 instead of 0 to 7\n",
    "plt.yticks([0,1,2,3,4,5,6,7], [1,2,3,4,5,6,7,8])\n",
    "# make x ticks A,B,C\n",
    "plt.xticks([0,1,2], ['A', 'B', 'C'])\n",
    "# set x ticks on the bottom of the figure instead of the top\n",
    "plt.tick_params(axis='x', which='both', bottom=True, top=False, labelbottom=True, labeltop=False)\n",
    "plt.show()\n",
    "\n",
    "# print all possible states\n",
    "for i in range(possible_states.shape[0]):\n",
    "    print(possible_states[i,:])"
   ]
  },
  {
   "cell_type": "code",
   "execution_count": null,
   "metadata": {
    "id": "MCkq3CwuYOhP"
   },
   "outputs": [],
   "source": [
    "# create a matrix of zeros to store transition probabilities\n",
    "tpm_state_by_state = np.zeros((possible_states.shape[0], possible_states.shape[0]))\n",
    "\n",
    "# loop over each possible state at time t\n",
    "for i in range(possible_states.shape[0]):\n",
    "    state_t = possible_states[i, :]\n",
    "\n",
    "    # find the indices where state_t appears in allData\n",
    "    idx_t = np.all(allData == state_t, axis=1)\n",
    "\n",
    "    # find the indices where state_t+1 appears in allData\n",
    "    idx_t_plus_1 = np.where(idx_t)[0] + 1\n",
    "\n",
    "    # exclude the last index to prevent out of bounds error\n",
    "    if np.any(idx_t_plus_1 >= allData.shape[0]):\n",
    "        idx_t_plus_1 = idx_t_plus_1[:-1]\n",
    "\n",
    "    # get the state at time t+1 for each occurrence of state_t\n",
    "    states_t_plus_1 = allData[idx_t_plus_1, :]\n",
    "\n",
    "    # loop over each possible state at time t+1\n",
    "    for j in range(possible_states.shape[0]):\n",
    "        state_t_plus_1 = possible_states[j, :]\n",
    "\n",
    "        # find the indices where state_t+1 matches state_t_plus_1\n",
    "        idx_t_plus_1_matching = np.all(states_t_plus_1 == state_t_plus_1, axis=1)\n",
    "\n",
    "        # calculate the transition probability from state_t to state_t_plus_1\n",
    "        tpm_state_by_state[i, j] = np.sum(idx_t_plus_1_matching) / np.sum(idx_t)\n",
    "\n",
    "# graph state by state transition matrix with a heatmap\n",
    "plt.imshow(tpm_state_by_state, cmap='BuPu', interpolation='nearest')\n",
    "plt.title('State by State Transition Matrix')\n",
    "plt.xlabel('State')\n",
    "plt.ylabel('State')\n",
    "# print legend with percentages for each state\n",
    "for i in range(tpm_state_by_state.shape[0]):\n",
    "    for j in range(tpm_state_by_state.shape[1]):\n",
    "        plt.text(j, i, '{:.2f}'.format(tpm_state_by_state[i, j]),\n",
    "                 horizontalalignment='center',\n",
    "                 verticalalignment='center',\n",
    "                 color='white' if tpm_state_by_state[i, j] > 0.5 else 'black')\n",
    "\n",
    "#save figure\n",
    "#plt.savefig('tpm_state_by_state.png', dpi=300, bbox_inches='tight')\n",
    "plt.show()"
   ]
  },
  {
   "cell_type": "code",
   "execution_count": null,
   "metadata": {
    "id": "Bd3I2c_IYRMm"
   },
   "outputs": [],
   "source": [
    "# convert state by state TPM to state by node TPM\n",
    "sbn_tpm = pyphi.convert.state_by_state2state_by_node(tpm_state_by_state)\n",
    "print(sbn_tpm.shape)\n",
    "# convert state by node TPM to state by state TPM to make it conditionally independent\n",
    "sbs_tpm= pyphi.convert.state_by_node2state_by_state(sbn_tpm)\n",
    "print(sbs_tpm.shape)\n",
    "\n",
    "# use state by state TPM as Phi Input\n",
    "pyPhiInput = sbs_tpm\n",
    "labels = ('A','B','C')\n",
    "# create network \n",
    "network = pyphi.Network(pyPhiInput, node_labels=labels)\n",
    "node_indices = (0,1,2)\n",
    "states = possible_states"
   ]
  },
  {
   "cell_type": "code",
   "execution_count": null,
   "metadata": {
    "id": "4R9jc_ZHdbs4"
   },
   "outputs": [],
   "source": [
    "# Define an array to store the phi values for each state\n",
    "phi_values = np.zeros(len(states))\n",
    "\n",
    "# Define variables to store the maximum phi value and its corresponding state\n",
    "max_phi = -np.inf\n",
    "max_phi_state = None\n",
    "\n",
    "# Loop through each possible state\n",
    "for i, state in enumerate(states):\n",
    "    # Create the candidate subsystem\n",
    "    candidate_system = pyphi.Subsystem(network, state, node_indices)\n",
    "\n",
    "    # Compute the big phi value for the candidate subsystem\n",
    "    phi_structure = pyphi.new_big_phi.phi_structure(candidate_system)\n",
    "    big_phi = phi_structure.big_phi\n",
    "\n",
    "    # Store the big phi value in the array\n",
    "    phi_values[i] = big_phi\n",
    "\n",
    "    # Update the maximum big phi value and its corresponding state if necessary\n",
    "    if big_phi > max_phi:\n",
    "        max_phi = big_phi\n",
    "        max_phi_state = state\n",
    "\n",
    "print(\"Maximum big phi value:\", max_phi)\n",
    "print(\"State with maximum big phi value:\", max_phi_state)"
   ]
  },
  {
   "cell_type": "markdown",
   "metadata": {
    "id": "f1a96bf7-cf69-49b2-aa59-36e6aecf0fb1"
   },
   "source": [
    "# Cause-effect structure and big Φ\n",
    "\n",
    "![IIT_4.0_demo_cause-effect_structure.png](data:image/png;base64,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)"
   ]
  },
  {
   "cell_type": "markdown",
   "metadata": {
    "id": "k9RAata-kztT"
   },
   "source": [
    "Figure from IIT 4 Demo Notebook : https://colab.research.google.com/github/wmayner/pyphi/blob/feature/iit-4.0/docs/examples/IIT_4.0_demo.ipynb"
   ]
  },
  {
   "cell_type": "code",
   "execution_count": null,
   "metadata": {
    "id": "JwsotAq2eGZY"
   },
   "outputs": [],
   "source": [
    "# create variable for max ssytem\n",
    "max_candidate_system = pyphi.Subsystem(network, max_phi_state, node_indices)\n",
    "# create system irreducibility analysis of max system\n",
    "sia = pyphi.new_big_phi.sia(max_candidate_system)\n",
    "print(sia)\n",
    "#text_output = str(sia)\n",
    "#with open('sia_maxphi_5secs_3neurons_sbs.txt', 'w') as f:\n",
    "  #f.write(text_output)\n",
    "#files.download('sia_maxphi_5secs_3neurons_sbs.txt')"
   ]
  },
  {
   "cell_type": "code",
   "execution_count": null,
   "metadata": {
    "id": "V1iGgtqKePwm"
   },
   "outputs": [],
   "source": [
    "# make the phi structure of the max system \n",
    "phi_structure = pyphi.new_big_phi.phi_structure(max_candidate_system)\n",
    "print(phi_structure)\n",
    "text_output = str(phi_structure)\n",
    "#with open('phi_structure_5secs_3neurons_sbs.txt', 'w') as f:\n",
    "  #f.write(text_output)\n",
    "#files.download('phi_structure_5secs_3neurons_sbs.txt')"
   ]
  },
  {
   "cell_type": "code",
   "execution_count": null,
   "metadata": {
    "id": "qjMeHMxYi1pp"
   },
   "outputs": [],
   "source": [
    "# φ_s\n",
    "print(f\"φ_s = {phi_structure.sia.phi}\")\n",
    "# Big Φ (sum of distinctions and relations' small φ)\n",
    "print(f\"  Φ = {phi_structure.big_phi}\")"
   ]
  },
  {
   "cell_type": "code",
   "execution_count": null,
   "metadata": {
    "id": "K4BSQuWgi7ig"
   },
   "outputs": [],
   "source": [
    "# find the distinctions of the max phi structure \n",
    "phi_structure.distinctions"
   ]
  },
  {
   "cell_type": "code",
   "execution_count": null,
   "metadata": {
    "id": "zYBM-p4si-Rv"
   },
   "outputs": [],
   "source": [
    "# Find the relations of the max phi structure\n",
    "phi_structure.relations"
   ]
  }
 ],
 "metadata": {
  "colab": {
   "provenance": []
  },
  "kernelspec": {
   "display_name": "Python 3 (ipykernel)",
   "language": "python",
   "name": "python3"
  },
  "language_info": {
   "codemirror_mode": {
    "name": "ipython",
    "version": 3
   },
   "file_extension": ".py",
   "mimetype": "text/x-python",
   "name": "python",
   "nbconvert_exporter": "python",
   "pygments_lexer": "ipython3",
   "version": "3.10.11"
  }
 },
 "nbformat": 4,
 "nbformat_minor": 1
}
